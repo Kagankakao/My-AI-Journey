{
  "nbformat": 4,
  "nbformat_minor": 0,
  "metadata": {
    "colab": {
      "provenance": []
    },
    "kernelspec": {
      "name": "python3",
      "display_name": "Python 3"
    },
    "language_info": {
      "name": "python"
    }
  },
  "cells": [
    {
      "cell_type": "code",
      "source": [
        "!rm -rf data\n",
        "!rm -rf going_modular\n",
        "!rm -rf sample_data\n",
        "!rm -rf helper_functions.py"
      ],
      "metadata": {
        "id": "Rn10zm2FKp9k"
      },
      "execution_count": 78,
      "outputs": []
    },
    {
      "cell_type": "code",
      "execution_count": 79,
      "metadata": {
        "id": "Sr91R7M_TmB-"
      },
      "outputs": [],
      "source": [
        "import torch\n",
        "import torchvision"
      ]
    },
    {
      "cell_type": "code",
      "source": [
        "try:\n",
        "    from torchinfo import summary\n",
        "except:\n",
        "    !pip install -q torchinfo\n",
        "\n",
        "try:\n",
        "    from going_modular.going_modular import data_setup, engine\n",
        "except:\n",
        "    !git clone https://github.com/Kagankakao/My-AI-Journey\n",
        "    !mv \"My-AI-Journey/Computer Vision and PyTorch Fundamentals/going_modular\" .\n",
        "    !mv \"My-AI-Journey/Computer Vision and PyTorch Fundamentals/helper_functions.py\" .\n",
        "    !rm -rf My-AI-Journey\n",
        "    from going_modular.going_modular import data_setup, engine\n",
        "    from helper_functions import download_data, set_seeds, plot_loss_curves"
      ],
      "metadata": {
        "id": "Uciq7m1dT8py"
      },
      "execution_count": 80,
      "outputs": []
    },
    {
      "cell_type": "code",
      "source": [
        "image_path = download_data(\"https://github.com/Kagankakao/My-AI-Journey/raw/main/data/pizza-steak-sushi.zip\",\n",
        "                           destination=\"pizza-steak-sushi\")\n",
        "image_path"
      ],
      "metadata": {
        "id": "ySGykBnmuR1p",
        "colab": {
          "base_uri": "https://localhost:8080/"
        },
        "outputId": "7dde6182-ecf7-4de2-b0d8-c5138523a07f"
      },
      "execution_count": 81,
      "outputs": [
        {
          "output_type": "stream",
          "name": "stdout",
          "text": [
            "[INFO] Did not find data/pizza-steak-sushi directory, creating one...\n",
            "[INFO] Downloading pizza-steak-sushi.zip from https://github.com/Kagankakao/My-AI-Journey/raw/main/data/pizza-steak-sushi.zip...\n",
            "[INFO] Unzipping pizza-steak-sushi.zip data...\n"
          ]
        },
        {
          "output_type": "execute_result",
          "data": {
            "text/plain": [
              "PosixPath('data/pizza-steak-sushi')"
            ]
          },
          "metadata": {},
          "execution_count": 81
        }
      ]
    },
    {
      "cell_type": "code",
      "source": [
        "train_dir = image_path / \"train\"\n",
        "test_dir = image_path / \"test\""
      ],
      "metadata": {
        "id": "rNxFebqMyI3_"
      },
      "execution_count": 82,
      "outputs": []
    },
    {
      "cell_type": "code",
      "source": [
        "from torchvision import transforms\n",
        "\n",
        "IMAGE_SIZE = 224\n",
        "\n",
        "manual_transform = transforms.Compose([transforms.Resize((IMAGE_SIZE, IMAGE_SIZE)),\n",
        "                                       transforms.ToTensor()])"
      ],
      "metadata": {
        "id": "UlHVilcFNkZf"
      },
      "execution_count": 83,
      "outputs": []
    },
    {
      "cell_type": "code",
      "source": [
        "from going_modular.going_modular import data_setup\n",
        "\n",
        "BATCH_SIZE = 32\n",
        "\n",
        "train_dataloader, test_dataloader, class_names = data_setup.create_dataloaders(\n",
        "    train_dir,\n",
        "    test_dir,\n",
        "    manual_transform,\n",
        "    BATCH_SIZE)"
      ],
      "metadata": {
        "id": "oc3sLDE6A4Cw"
      },
      "execution_count": 84,
      "outputs": []
    },
    {
      "cell_type": "code",
      "source": [
        "image_batch, label_batch = next(iter(train_dataloader))\n",
        "\n",
        "image, label = image_batch[0], label_batch[0]\n",
        "\n",
        "image, label"
      ],
      "metadata": {
        "id": "9SAT54fsCGga",
        "colab": {
          "base_uri": "https://localhost:8080/"
        },
        "outputId": "b8acf065-9da0-4340-9d26-2cc4ec840130"
      },
      "execution_count": 85,
      "outputs": [
        {
          "output_type": "execute_result",
          "data": {
            "text/plain": [
              "(tensor([[[0.2745, 0.1412, 0.0784,  ..., 0.2118, 0.1922, 0.1922],\n",
              "          [0.0784, 0.1098, 0.1882,  ..., 0.1882, 0.1765, 0.1765],\n",
              "          [0.2471, 0.3020, 0.3490,  ..., 0.4275, 0.4000, 0.5216],\n",
              "          ...,\n",
              "          [0.4902, 0.4941, 0.4980,  ..., 0.4118, 0.3373, 0.3373],\n",
              "          [0.4902, 0.4980, 0.5020,  ..., 0.4706, 0.4471, 0.4627],\n",
              "          [0.4980, 0.4980, 0.5020,  ..., 0.4745, 0.4824, 0.4784]],\n",
              " \n",
              "         [[0.0235, 0.0078, 0.0039,  ..., 0.0078, 0.0078, 0.0078],\n",
              "          [0.0039, 0.0078, 0.0196,  ..., 0.0314, 0.0275, 0.0471],\n",
              "          [0.0353, 0.0471, 0.0706,  ..., 0.1137, 0.1137, 0.3255],\n",
              "          ...,\n",
              "          [0.3686, 0.3686, 0.3725,  ..., 0.2863, 0.2235, 0.2196],\n",
              "          [0.3608, 0.3647, 0.3647,  ..., 0.3451, 0.3255, 0.3373],\n",
              "          [0.3490, 0.3608, 0.3647,  ..., 0.3529, 0.3529, 0.3569]],\n",
              " \n",
              "         [[0.1176, 0.1137, 0.1137,  ..., 0.1137, 0.1098, 0.1137],\n",
              "          [0.1020, 0.1059, 0.1098,  ..., 0.1020, 0.1098, 0.1255],\n",
              "          [0.1098, 0.1098, 0.1137,  ..., 0.1176, 0.1373, 0.3059],\n",
              "          ...,\n",
              "          [0.2902, 0.3294, 0.3529,  ..., 0.2627, 0.2275, 0.2235],\n",
              "          [0.2941, 0.3373, 0.3490,  ..., 0.3294, 0.3137, 0.3137],\n",
              "          [0.3176, 0.3490, 0.3569,  ..., 0.3490, 0.3529, 0.3569]]]),\n",
              " tensor(2))"
            ]
          },
          "metadata": {},
          "execution_count": 85
        }
      ]
    },
    {
      "cell_type": "code",
      "source": [
        "import matplotlib.pyplot as plt\n",
        "\n",
        "plt.imshow(image.permute(1,2,0))\n",
        "plt.title(class_names[label])\n",
        "plt.axis(False)"
      ],
      "metadata": {
        "id": "06hErx-K5qBT",
        "colab": {
          "base_uri": "https://localhost:8080/",
          "height": 445
        },
        "outputId": "8f6fea3a-4b26-488a-dd99-77eb9a04f338"
      },
      "execution_count": 88,
      "outputs": [
        {
          "output_type": "execute_result",
          "data": {
            "text/plain": [
              "(-0.5, 63.5, 63.5, -0.5)"
            ]
          },
          "metadata": {},
          "execution_count": 88
        },
        {
          "output_type": "display_data",
          "data": {
            "text/plain": [
              "<Figure size 640x480 with 1 Axes>"
            ],
            "image/png": "[encoded data removed]"
          },
          "metadata": {}
        }
      ]
    }
  ]
}